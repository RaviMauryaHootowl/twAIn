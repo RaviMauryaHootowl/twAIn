{
 "cells": [
  {
   "cell_type": "code",
   "execution_count": null,
   "metadata": {
    "colab": {},
    "colab_type": "code",
    "id": "Hz2xtokFSfWe"
   },
   "outputs": [],
   "source": []
  },
  {
   "cell_type": "code",
   "execution_count": null,
   "metadata": {
    "colab": {
     "base_uri": "https://localhost:8080/",
     "height": 649
    },
    "colab_type": "code",
    "id": "YqaCKDO_zp5W",
    "outputId": "50c651a2-1572-4014-ea1d-16e0005669a6"
   },
   "outputs": [],
   "source": [
    "!pip install tensorflow-gpu==2.0.0"
   ]
  },
  {
   "cell_type": "code",
   "execution_count": null,
   "metadata": {
    "colab": {
     "base_uri": "https://localhost:8080/",
     "height": 150
    },
    "colab_type": "code",
    "id": "PdFXDh0Jz9Ai",
    "outputId": "0dee5d3d-99c2-4aad-ebd2-15d9fd4fd631"
   },
   "outputs": [],
   "source": [
    "!pip install keras==2.3.1"
   ]
  },
  {
   "cell_type": "code",
   "execution_count": null,
   "metadata": {
    "colab": {
     "base_uri": "https://localhost:8080/",
     "height": 33
    },
    "colab_type": "code",
    "id": "RfwXxYh2jtXW",
    "outputId": "97b0e411-bc28-409e-cddb-d7d67e575c90"
   },
   "outputs": [],
   "source": [
    "import tensorflow as tf\n",
    "tf.test.gpu_device_name()"
   ]
  },
  {
   "cell_type": "code",
   "execution_count": null,
   "metadata": {
    "colab": {},
    "colab_type": "code",
    "id": "3D7D2t75mMe-"
   },
   "outputs": [],
   "source": [
    "import numpy as np\n",
    "import pandas as pd\n",
    "import re"
   ]
  },
  {
   "cell_type": "code",
   "execution_count": null,
   "metadata": {
    "colab": {},
    "colab_type": "code",
    "id": "fou3BJ0Em32B"
   },
   "outputs": [],
   "source": [
    "datas = []\n",
    "data_file_names = ['1.txt', '3.txt']\n",
    "for file_name in data_file_names:\n",
    "  dfile = open(file_name, \"r\", encoding='utf8')\n",
    "  data = dfile.read()\n",
    "  datas.append(data)"
   ]
  },
  {
   "cell_type": "code",
   "execution_count": null,
   "metadata": {
    "colab": {},
    "colab_type": "code",
    "id": "Iem2JVCNosZd"
   },
   "outputs": [],
   "source": [
    "#data1 = data_file1.read()\n",
    "#data2 = data_file2.read()"
   ]
  },
  {
   "cell_type": "code",
   "execution_count": null,
   "metadata": {
    "colab": {
     "base_uri": "https://localhost:8080/",
     "height": 51
    },
    "colab_type": "code",
    "id": "oQp8hRqZo37d",
    "outputId": "3fb30bc5-4ad4-46a5-a681-df63a913c1a9"
   },
   "outputs": [],
   "source": [
    "for data in datas:\n",
    "  print('Length of Book : ', len(data))"
   ]
  },
  {
   "cell_type": "code",
   "execution_count": null,
   "metadata": {
    "colab": {},
    "colab_type": "code",
    "id": "ITzup7_eo4_x"
   },
   "outputs": [],
   "source": [
    "def filterAlpha(text):\n",
    "    text = text.replace('\\n', ' ')\n",
    "    s_result = []\n",
    "    for i in text:\n",
    "        if i.isalpha() or i == ' ':\n",
    "            s_result.append(i.lower())\n",
    "    return ''.join(s_result)"
   ]
  },
  {
   "cell_type": "code",
   "execution_count": null,
   "metadata": {
    "colab": {
     "base_uri": "https://localhost:8080/",
     "height": 51
    },
    "colab_type": "code",
    "id": "yo2OE1a5o8SN",
    "outputId": "c9d36d6c-d1ce-44e5-9c39-0a3d288234a6"
   },
   "outputs": [],
   "source": [
    "def removeSpecialChars(data):\n",
    "  data = filterAlpha(data)\n",
    "  data = re.sub(' +', ' ', data)\n",
    "  data = data.strip()\n",
    "  return data\n",
    "\n",
    "for i in range(len(datas)):\n",
    "  datas[i] = removeSpecialChars(datas[i])\n",
    "\n",
    "# data1 = removeSpecialChars(data1)\n",
    "# data2 = removeSpecialChars(data2)\n",
    "\n",
    "#After removing punctuations\n",
    "# print(\"Length of Book 1 : \", len(data1))\n",
    "# print(\"Length of Book 2 : \", len(data2))\n",
    "for data in datas:\n",
    "  print('Length of Book : ', len(data))"
   ]
  },
  {
   "cell_type": "code",
   "execution_count": null,
   "metadata": {
    "colab": {},
    "colab_type": "code",
    "id": "mnysphABo9ni"
   },
   "outputs": [],
   "source": []
  },
  {
   "cell_type": "code",
   "execution_count": null,
   "metadata": {
    "colab": {},
    "colab_type": "code",
    "id": "KJWhuiPeo-tq"
   },
   "outputs": [],
   "source": [
    "# tokens1 = data1.split()\n",
    "# tokens2 = data2.split()\n",
    "tokens = []\n",
    "for i in range(len(datas)):\n",
    "  tokens.append(datas[i].split())"
   ]
  },
  {
   "cell_type": "code",
   "execution_count": null,
   "metadata": {
    "colab": {
     "base_uri": "https://localhost:8080/",
     "height": 51
    },
    "colab_type": "code",
    "id": "i0OLq6cAo_2s",
    "outputId": "79d12572-8f4b-47cb-c2db-595a1fea5466"
   },
   "outputs": [],
   "source": [
    "for i in range(len(tokens)):\n",
    "  print('token size : ', len(tokens[i]))"
   ]
  },
  {
   "cell_type": "code",
   "execution_count": null,
   "metadata": {
    "colab": {},
    "colab_type": "code",
    "id": "Xy6XCtZUpBZ1"
   },
   "outputs": [],
   "source": [
    "full_token = []\n",
    "for i in range(len(tokens)):\n",
    "  full_token = full_token + tokens[i]"
   ]
  },
  {
   "cell_type": "code",
   "execution_count": null,
   "metadata": {
    "colab": {
     "base_uri": "https://localhost:8080/",
     "height": 34
    },
    "colab_type": "code",
    "id": "ofHyZIsmJlhB",
    "outputId": "4cb59ecf-b09f-4cf7-8d53-699d2e816a24"
   },
   "outputs": [],
   "source": [
    "len(full_token)"
   ]
  },
  {
   "cell_type": "code",
   "execution_count": null,
   "metadata": {
    "colab": {},
    "colab_type": "code",
    "id": "trtUIaFqpTOd"
   },
   "outputs": [],
   "source": [
    "vocab = set(full_token)"
   ]
  },
  {
   "cell_type": "code",
   "execution_count": null,
   "metadata": {
    "colab": {
     "base_uri": "https://localhost:8080/",
     "height": 34
    },
    "colab_type": "code",
    "id": "pZw6KhRpikjA",
    "outputId": "5644b039-1daf-4ef8-de10-ae749302334b"
   },
   "outputs": [],
   "source": [
    "len(vocab)"
   ]
  },
  {
   "cell_type": "code",
   "execution_count": null,
   "metadata": {
    "colab": {},
    "colab_type": "code",
    "id": "HkOFHklPpUgh"
   },
   "outputs": [],
   "source": [
    "length = 50 + 1\n",
    "lines = []\n",
    "for t in range(len(tokens)):\n",
    "  for i in range(length, len(tokens[t])):\n",
    "      seq = tokens[t][i-length : i]\n",
    "      line = ' '.join(seq)\n",
    "      lines.append(line)"
   ]
  },
  {
   "cell_type": "code",
   "execution_count": null,
   "metadata": {
    "colab": {
     "base_uri": "https://localhost:8080/",
     "height": 34
    },
    "colab_type": "code",
    "id": "rD0IiS4ZpYOz",
    "outputId": "90aa1918-bd26-43bb-8740-e4033c18ec54"
   },
   "outputs": [],
   "source": [
    "len(lines)"
   ]
  },
  {
   "cell_type": "code",
   "execution_count": null,
   "metadata": {
    "colab": {
     "base_uri": "https://localhost:8080/",
     "height": 54
    },
    "colab_type": "code",
    "id": "f5ELcA3CpZuN",
    "outputId": "950d3b48-e3df-4ba0-c4ea-594c0337bec2"
   },
   "outputs": [],
   "source": [
    "lines[0]"
   ]
  },
  {
   "cell_type": "code",
   "execution_count": null,
   "metadata": {
    "colab": {},
    "colab_type": "code",
    "id": "GgqZzwu2pbgE"
   },
   "outputs": [],
   "source": [
    "import numpy as np\n",
    "from tensorflow.keras.preprocessing.text import Tokenizer\n",
    "from tensorflow.keras.utils import to_categorical\n",
    "from tensorflow.keras.models import Sequential\n",
    "from tensorflow.keras.layers import Dense, LSTM, Embedding, Dropout, Bidirectional\n",
    "from tensorflow.keras.preprocessing.sequence import pad_sequences"
   ]
  },
  {
   "cell_type": "code",
   "execution_count": null,
   "metadata": {
    "colab": {},
    "colab_type": "code",
    "id": "PKg0Z1JSpcxr"
   },
   "outputs": [],
   "source": [
    "tokenizer = Tokenizer()"
   ]
  },
  {
   "cell_type": "code",
   "execution_count": null,
   "metadata": {
    "colab": {},
    "colab_type": "code",
    "id": "fZqnfY0hpeCn"
   },
   "outputs": [],
   "source": [
    "tokenizer.fit_on_texts(lines)"
   ]
  },
  {
   "cell_type": "code",
   "execution_count": null,
   "metadata": {
    "colab": {},
    "colab_type": "code",
    "id": "it-Fu7e1pfS-"
   },
   "outputs": [],
   "source": [
    "sequences = tokenizer.texts_to_sequences(lines)"
   ]
  },
  {
   "cell_type": "code",
   "execution_count": null,
   "metadata": {
    "colab": {},
    "colab_type": "code",
    "id": "NDW6CHmKpgSY"
   },
   "outputs": [],
   "source": [
    "sequences = np.array(sequences)"
   ]
  },
  {
   "cell_type": "code",
   "execution_count": null,
   "metadata": {
    "colab": {
     "base_uri": "https://localhost:8080/",
     "height": 153
    },
    "colab_type": "code",
    "id": "518eMA9aphjY",
    "outputId": "cbac9dd5-51ba-44e3-92df-bc68636bd8a7"
   },
   "outputs": [],
   "source": [
    "print(len(sequences))\n",
    "print(sequences)"
   ]
  },
  {
   "cell_type": "code",
   "execution_count": null,
   "metadata": {
    "colab": {},
    "colab_type": "code",
    "id": "Hp24MYAQpjBP"
   },
   "outputs": [],
   "source": [
    "#sequences[0, :-1]\n",
    "X, y = sequences[:, :-1], sequences[:, -1]"
   ]
  },
  {
   "cell_type": "code",
   "execution_count": null,
   "metadata": {
    "colab": {
     "base_uri": "https://localhost:8080/",
     "height": 119
    },
    "colab_type": "code",
    "id": "jrcyX2BYpkub",
    "outputId": "d06270ef-e130-46a9-f284-2ab51318a8c0"
   },
   "outputs": [],
   "source": [
    "X[0]"
   ]
  },
  {
   "cell_type": "code",
   "execution_count": null,
   "metadata": {
    "colab": {
     "base_uri": "https://localhost:8080/",
     "height": 34
    },
    "colab_type": "code",
    "id": "5MXtET0Rpl69",
    "outputId": "c4c4db9c-3911-4667-aeeb-e46fc53d87bf"
   },
   "outputs": [],
   "source": [
    "vocab_size = len(tokenizer.word_index) + 1\n",
    "print(vocab_size)"
   ]
  },
  {
   "cell_type": "code",
   "execution_count": null,
   "metadata": {
    "colab": {},
    "colab_type": "code",
    "id": "VP-CCl5QpnWB"
   },
   "outputs": [],
   "source": [
    "y = to_categorical(y, num_classes = vocab_size)"
   ]
  },
  {
   "cell_type": "code",
   "execution_count": null,
   "metadata": {
    "colab": {},
    "colab_type": "code",
    "id": "yZix_ySnpok5"
   },
   "outputs": [],
   "source": [
    "seq_length = X.shape[1]"
   ]
  },
  {
   "cell_type": "code",
   "execution_count": null,
   "metadata": {
    "colab": {
     "base_uri": "https://localhost:8080/",
     "height": 34
    },
    "colab_type": "code",
    "id": "fjab92oOpprd",
    "outputId": "7e46da72-d3dc-4245-e3d8-3af0b9abbede"
   },
   "outputs": [],
   "source": [
    "seq_length"
   ]
  },
  {
   "cell_type": "code",
   "execution_count": null,
   "metadata": {
    "colab": {},
    "colab_type": "code",
    "id": "wxwO-KF7pq-j"
   },
   "outputs": [],
   "source": [
    "model = Sequential()"
   ]
  },
  {
   "cell_type": "code",
   "execution_count": null,
   "metadata": {
    "colab": {},
    "colab_type": "code",
    "id": "9WX6ZUukpsSz"
   },
   "outputs": [],
   "source": [
    "model.add(Embedding(vocab_size, 50, input_length=seq_length))"
   ]
  },
  {
   "cell_type": "code",
   "execution_count": null,
   "metadata": {
    "colab": {},
    "colab_type": "code",
    "id": "2NEtBmXupt4b"
   },
   "outputs": [],
   "source": [
    "#model.add(Bidirectional(LSTM(125, return_sequences=True, dropout=0.2)))\n",
    "model.add(Bidirectional(LSTM(125, dropout=0.2)))"
   ]
  },
  {
   "cell_type": "code",
   "execution_count": null,
   "metadata": {
    "colab": {},
    "colab_type": "code",
    "id": "08l89hGvpu9H"
   },
   "outputs": [],
   "source": [
    "model.add(Dense(100, activation='relu'))"
   ]
  },
  {
   "cell_type": "code",
   "execution_count": null,
   "metadata": {
    "colab": {},
    "colab_type": "code",
    "id": "rvR6Snd4p0mb"
   },
   "outputs": [],
   "source": [
    "model.add(Dense(vocab_size, activation='softmax'))"
   ]
  },
  {
   "cell_type": "code",
   "execution_count": null,
   "metadata": {
    "colab": {
     "base_uri": "https://localhost:8080/",
     "height": 289
    },
    "colab_type": "code",
    "id": "0qh63fMPp1xP",
    "outputId": "24220576-800e-4344-c462-cc0e26a3a5e4"
   },
   "outputs": [],
   "source": [
    "model.summary()"
   ]
  },
  {
   "cell_type": "code",
   "execution_count": null,
   "metadata": {
    "colab": {},
    "colab_type": "code",
    "id": "7so_msofp35n"
   },
   "outputs": [],
   "source": [
    "model.compile(loss ='categorical_crossentropy', optimizer='adam', metrics=['accuracy'])"
   ]
  },
  {
   "cell_type": "code",
   "execution_count": null,
   "metadata": {
    "colab": {
     "base_uri": "https://localhost:8080/",
     "height": 1000
    },
    "colab_type": "code",
    "id": "xJ8KTvD0p527",
    "outputId": "df2fd924-ddfc-44b6-ef92-dc51fc680614"
   },
   "outputs": [],
   "source": [
    "history = model.fit(X, y, batch_size=128, epochs=30)"
   ]
  },
  {
   "cell_type": "code",
   "execution_count": null,
   "metadata": {
    "colab": {
     "base_uri": "https://localhost:8080/",
     "height": 446
    },
    "colab_type": "code",
    "id": "KCVPRXyKPH9j",
    "outputId": "82d2f7e1-eb5a-44c4-a169-c00accdefaa3"
   },
   "outputs": [],
   "source": [
    "import matplotlib.pyplot as plt\n",
    "plt.plot(history.history['loss'], linewidth=2)\n",
    "plt.plot(history.history['val_loss'], color='red')"
   ]
  },
  {
   "cell_type": "code",
   "execution_count": null,
   "metadata": {
    "colab": {
     "base_uri": "https://localhost:8080/",
     "height": 281
    },
    "colab_type": "code",
    "id": "ewae_20oSMqr",
    "outputId": "3ac37b88-fcd3-43ba-a775-75fd7fac98da"
   },
   "outputs": [],
   "source": [
    "plt.plot(history.history['accuracy'], linewidth=2)\n",
    "plt.plot(history.history['val_accuracy'], color='red')"
   ]
  },
  {
   "cell_type": "code",
   "execution_count": null,
   "metadata": {
    "colab": {},
    "colab_type": "code",
    "id": "14sD1nUgp7uf"
   },
   "outputs": [],
   "source": [
    "seed_text = lines[20]\n",
    "def generate_text_seq(model, tokenizer, text_seq_length, seed_text, n_words):\n",
    "    text = []\n",
    "    for _ in range(n_words):\n",
    "        encoded = tokenizer.texts_to_sequences([seed_text])[0]\n",
    "        encoded = pad_sequences([encoded], maxlen=text_seq_length, truncating='pre')\n",
    "        y_pred = model.predict_classes(encoded)\n",
    "        predicted_word = ''\n",
    "        for word, index in tokenizer.word_index.items():\n",
    "            if index == y_pred:\n",
    "                predicted_word = word\n",
    "                break\n",
    "        seed_text = seed_text + ' ' + predicted_word\n",
    "        text.append(predicted_word)\n",
    "    return ' '.join(text)"
   ]
  },
  {
   "cell_type": "code",
   "execution_count": null,
   "metadata": {
    "colab": {
     "base_uri": "https://localhost:8080/",
     "height": 54
    },
    "colab_type": "code",
    "id": "3xDPx0OFw1p5",
    "outputId": "afa3b7ce-d40c-42c7-96b5-2d48550ccf82"
   },
   "outputs": [],
   "source": [
    "#seed_text = \"Once there was an old man who had four sons <eos> All four of them were very lazy <eos> One day the old man fell sick and was counting his last days in bed <eos> He worried a lot about his sons future as the young men hesitated a lot\"\n",
    "#seed_text = seed_text.lower()\n",
    "print(seed_text)"
   ]
  },
  {
   "cell_type": "code",
   "execution_count": null,
   "metadata": {
    "colab": {
     "base_uri": "https://localhost:8080/",
     "height": 53
    },
    "colab_type": "code",
    "id": "XVAssJprw3v4",
    "outputId": "074827f8-4e95-4a97-9e0d-261c9bd0bbca"
   },
   "outputs": [],
   "source": [
    "generate_text_seq(model, tokenizer, seq_length, seed_text, 100)"
   ]
  },
  {
   "cell_type": "code",
   "execution_count": null,
   "metadata": {
    "colab": {
     "base_uri": "https://localhost:8080/",
     "height": 53
    },
    "colab_type": "code",
    "id": "sduBje0QxGlm",
    "outputId": "d2496454-ffa3-4da1-d570-4d1b4eafd815"
   },
   "outputs": [],
   "source": [
    "lines[70]"
   ]
  },
  {
   "cell_type": "code",
   "execution_count": null,
   "metadata": {
    "colab": {},
    "colab_type": "code",
    "id": "-Lpv4u_8ml6e"
   },
   "outputs": [],
   "source": [
    "seed_text = \"he boy had dreamed of the treasure he had no idea where the treasure is but he was sure it was somewhere hidden in the mountains\""
   ]
  },
  {
   "cell_type": "code",
   "execution_count": null,
   "metadata": {
    "colab": {
     "base_uri": "https://localhost:8080/",
     "height": 54
    },
    "colab_type": "code",
    "id": "kVYRctIqr4Pn",
    "outputId": "e2dc5fcc-bc65-4488-cc1d-045ea49c984e"
   },
   "outputs": [],
   "source": [
    "generate_text_seq(model, tokenizer, seq_length, seed_text, 100)"
   ]
  },
  {
   "cell_type": "code",
   "execution_count": null,
   "metadata": {
    "colab": {},
    "colab_type": "code",
    "id": "t5T3afbpr5Sj"
   },
   "outputs": [],
   "source": [
    "model.save('modeltrained3.h5')"
   ]
  },
  {
   "cell_type": "code",
   "execution_count": null,
   "metadata": {
    "colab": {
     "base_uri": "https://localhost:8080/",
     "height": 34
    },
    "colab_type": "code",
    "id": "Sfi5HBKdv7EN",
    "outputId": "c1493e66-f607-45de-d6c5-858bf21f4ee2"
   },
   "outputs": [],
   "source": [
    "import pickle\n",
    "# saving\n",
    "with open('tokenizer.pickle', 'wb') as handle:\n",
    "    pickle.dump(tokenizer, handle, protocol=pickle.HIGHEST_PROTOCOL)"
   ]
  },
  {
   "cell_type": "code",
   "execution_count": null,
   "metadata": {
    "colab": {},
    "colab_type": "code",
    "id": "OfSVtYAAG7Jv"
   },
   "outputs": [],
   "source": []
  },
  {
   "cell_type": "code",
   "execution_count": null,
   "metadata": {},
   "outputs": [],
   "source": []
  },
  {
   "cell_type": "code",
   "execution_count": 1,
   "metadata": {},
   "outputs": [],
   "source": [
    "### LOADING Later"
   ]
  },
  {
   "cell_type": "code",
   "execution_count": 1,
   "metadata": {},
   "outputs": [],
   "source": [
    "from tensorflow.keras.preprocessing.text import Tokenizer\n",
    "import pickle\n",
    "# loading\n",
    "with open('tokenizer.pickle', 'rb') as handle:\n",
    "    tokenizer = pickle.load(handle)"
   ]
  },
  {
   "cell_type": "code",
   "execution_count": 2,
   "metadata": {},
   "outputs": [
    {
     "name": "stderr",
     "output_type": "stream",
     "text": [
      "Using TensorFlow backend.\n"
     ]
    }
   ],
   "source": [
    "# later...\n",
    "from tensorflow import keras\n",
    "from keras.models import model_from_json\n",
    "from tensorflow.keras.preprocessing.sequence import pad_sequences\n",
    " \n",
    "loaded_model = keras.models.load_model('modeltrained3.h5')"
   ]
  },
  {
   "cell_type": "code",
   "execution_count": 3,
   "metadata": {},
   "outputs": [
    {
     "data": {
      "text/plain": [
       "'2.3.1'"
      ]
     },
     "execution_count": 3,
     "metadata": {},
     "output_type": "execute_result"
    }
   ],
   "source": [
    "import keras\n",
    "keras.__version__"
   ]
  },
  {
   "cell_type": "code",
   "execution_count": 4,
   "metadata": {},
   "outputs": [],
   "source": [
    "def generate_text_seq(model, tokenizer, text_seq_length, seed_text, n_words):\n",
    "    text = []\n",
    "    for _ in range(n_words):\n",
    "        encoded = tokenizer.texts_to_sequences([seed_text])[0]\n",
    "        encoded = pad_sequences([encoded], maxlen=text_seq_length, truncating='pre')\n",
    "        y_pred = model.predict_classes(encoded)\n",
    "        predicted_word = ''\n",
    "        for word, index in tokenizer.word_index.items():\n",
    "            if index == y_pred:\n",
    "                predicted_word = word\n",
    "                break\n",
    "        seed_text = seed_text + ' ' + predicted_word\n",
    "        text.append(predicted_word)\n",
    "    return ' '.join(text)"
   ]
  },
  {
   "cell_type": "code",
   "execution_count": 5,
   "metadata": {},
   "outputs": [
    {
     "data": {
      "text/plain": [
       "'and held the paper toward the door and opened the door and opened the door and bolting it intentionally and you are not a man of wisdom said dartagnan i have not seen you to be dreaded the queen is not a man of the cardinal who has not been weeping the stains of a satirical expression and the four friends had been sent to be submerged by the groaning of posts the devil said athos i have not a chance of the cardinal and i have not seen you to be a chance of the others but i was'"
      ]
     },
     "execution_count": 5,
     "metadata": {},
     "output_type": "execute_result"
    }
   ],
   "source": [
    "seed_text = \"it was somewhere hidden in the mountains\"\n",
    "seq_length=50\n",
    "generate_text_seq(loaded_model, tokenizer, seq_length, seed_text, 100)"
   ]
  },
  {
   "cell_type": "code",
   "execution_count": null,
   "metadata": {},
   "outputs": [],
   "source": []
  }
 ],
 "metadata": {
  "accelerator": "GPU",
  "colab": {
   "collapsed_sections": [],
   "machine_shape": "hm",
   "name": "bigmodel2.ipynb",
   "provenance": []
  },
  "kernelspec": {
   "display_name": "Python 3",
   "language": "python",
   "name": "python3"
  },
  "language_info": {
   "codemirror_mode": {
    "name": "ipython",
    "version": 3
   },
   "file_extension": ".py",
   "mimetype": "text/x-python",
   "name": "python",
   "nbconvert_exporter": "python",
   "pygments_lexer": "ipython3",
   "version": "3.6.8"
  }
 },
 "nbformat": 4,
 "nbformat_minor": 4
}
